{
 "cells": [
  {
   "cell_type": "code",
   "execution_count": 13,
   "id": "29051474-f56e-431d-8a38-c973d7f41a1a",
   "metadata": {},
   "outputs": [],
   "source": [
    "import random\n",
    "def find_c():\n",
    "    while True:\n",
    "        A = random.randint(1,9)\n",
    "        B = random.randint(1,9)\n",
    "        C = A * B\n",
    "        print(f\"A: {A}, C: {C}\")\n",
    "        if C == 4:\n",
    "            print(\"Success!\")\n",
    "            print(f\"Final values - A: {A}, B: {B}\")\n",
    "            break"
   ]
  },
  {
   "cell_type": "code",
   "execution_count": 15,
   "id": "3f42203b-41f0-4803-a6a9-b173d595dcc3",
   "metadata": {},
   "outputs": [
    {
     "name": "stdout",
     "output_type": "stream",
     "text": [
      "A: 1, C: 9\n",
      "A: 9, C: 45\n",
      "A: 1, C: 4\n",
      "Success!\n",
      "Final values - A: 1, B: 4\n"
     ]
    }
   ],
   "source": [
    "find_c()"
   ]
  },
  {
   "cell_type": "code",
   "execution_count": null,
   "id": "431198f0-cf3c-4e05-8043-9afa9eec750b",
   "metadata": {},
   "outputs": [],
   "source": []
  }
 ],
 "metadata": {
  "kernelspec": {
   "display_name": "Python 3 (ipykernel)",
   "language": "python",
   "name": "python3"
  },
  "language_info": {
   "codemirror_mode": {
    "name": "ipython",
    "version": 3
   },
   "file_extension": ".py",
   "mimetype": "text/x-python",
   "name": "python",
   "nbconvert_exporter": "python",
   "pygments_lexer": "ipython3",
   "version": "3.12.4"
  }
 },
 "nbformat": 4,
 "nbformat_minor": 5
}
